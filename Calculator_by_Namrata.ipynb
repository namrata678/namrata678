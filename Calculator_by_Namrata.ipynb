{
  "nbformat": 4,
  "nbformat_minor": 0,
  "metadata": {
    "colab": {
      "provenance": [],
      "authorship_tag": "ABX9TyOq4sxVXUQ5u+6zIovwsFKo",
      "include_colab_link": true
    },
    "kernelspec": {
      "name": "python3",
      "display_name": "Python 3"
    },
    "language_info": {
      "name": "python"
    }
  },
  "cells": [
    {
      "cell_type": "markdown",
      "metadata": {
        "id": "view-in-github",
        "colab_type": "text"
      },
      "source": [
        "<a href=\"https://colab.research.google.com/github/namrata678/namrata678/blob/main/Calculator_by_Namrata.ipynb\" target=\"_parent\"><img src=\"https://colab.research.google.com/assets/colab-badge.svg\" alt=\"Open In Colab\"/></a>"
      ]
    },
    {
      "cell_type": "markdown",
      "source": [
        "**Task 1 : Calculator**\n",
        "\n",
        "Create a basic calculator that can perform\n",
        "basic arithmetic operations such as addition,\n",
        "subtraction, multiplication, and division.using\n",
        "functions"
      ],
      "metadata": {
        "id": "vVTpVePkeTum"
      }
    },
    {
      "cell_type": "code",
      "execution_count": 6,
      "metadata": {
        "colab": {
          "base_uri": "https://localhost:8080/"
        },
        "id": "08XuONDgdvv7",
        "outputId": "e67c8e83-4a72-456c-a8cb-dc33cb66a0be"
      },
      "outputs": [
        {
          "name": "stdout",
          "output_type": "stream",
          "text": [
            "Select operation:\n",
            "1. Add\n",
            "2. Subtract\n",
            "3. Multiply\n",
            "4. Divide\n",
            "Enter choice (1/2/3/4):1\n",
            "Enter the first number: 20\n",
            "Enter the second number: 20\n",
            "Result:  40.0\n",
            "Do you want to perform another calculation? (yes/no): yes\n",
            "Select operation:\n",
            "1. Add\n",
            "2. Subtract\n",
            "3. Multiply\n",
            "4. Divide\n",
            "Enter choice (1/2/3/4):30\n",
            "Enter the first number: 25\n",
            "Enter the second number: 30\n",
            "Invalid input\n",
            "Do you want to perform another calculation? (yes/no): yes\n",
            "Select operation:\n",
            "1. Add\n",
            "2. Subtract\n",
            "3. Multiply\n",
            "4. Divide\n",
            "Enter choice (1/2/3/4):2\n",
            "Enter the first number: 12\n",
            "Enter the second number: 10\n",
            "Result:  2.0\n",
            "Do you want to perform another calculation? (yes/no): yes\n",
            "Select operation:\n",
            "1. Add\n",
            "2. Subtract\n",
            "3. Multiply\n",
            "4. Divide\n",
            "Enter choice (1/2/3/4):3\n",
            "Enter the first number: 12\n",
            "Enter the second number: 2\n",
            "Result:  24.0\n",
            "Do you want to perform another calculation? (yes/no): yes\n",
            "Select operation:\n",
            "1. Add\n",
            "2. Subtract\n",
            "3. Multiply\n",
            "4. Divide\n",
            "Enter choice (1/2/3/4):4\n",
            "Enter the first number: 10\n",
            "Enter the second number: 5\n",
            "Result:  2.0\n",
            "Do you want to perform another calculation? (yes/no): no\n"
          ]
        }
      ],
      "source": [
        "# Function to perform addition\n",
        "def add(m, n):\n",
        "    return m + n\n",
        "\n",
        "# Function to perform subtraction\n",
        "def subtract(m, n):\n",
        "    return m - n\n",
        "\n",
        "# Function to perform multiplication\n",
        "def multiply(m, n):\n",
        "    return m * n\n",
        "\n",
        "# Function to perform division\n",
        "def divide(m, n):\n",
        "    if n == 0:\n",
        "        return \"Division by zero is not allowed\"\n",
        "    return m / n\n",
        "\n",
        "# Main calculator function\n",
        "def calculator():\n",
        "    while True:\n",
        "        print(\"Select operation:\")\n",
        "        print(\"1. Add\")\n",
        "        print(\"2. Subtract\")\n",
        "        print(\"3. Multiply\")\n",
        "        print(\"4. Divide\")\n",
        "\n",
        "        choice = input(\"Enter choice (1/2/3/4):\")\n",
        "\n",
        "        m = float(input(\"Enter the first number: \"))\n",
        "        n = float(input(\"Enter the second number: \"))\n",
        "\n",
        "        if choice == '1':\n",
        "            print(\"Result: \", add(m, n))\n",
        "        elif choice == '2':\n",
        "            print(\"Result: \", subtract(m, n))\n",
        "        elif choice == '3':\n",
        "            print(\"Result: \", multiply(m, n))\n",
        "        elif choice == '4':\n",
        "            print(\"Result: \", divide(m, n))\n",
        "        else:\n",
        "            print(\"Invalid input\")\n",
        "\n",
        "        another_calculation = input(\"Do you want to perform another calculation? (yes/no): \").lower()\n",
        "        if another_calculation != 'yes':\n",
        "            break\n",
        "\n",
        "# Run the calculator\n",
        "calculator()\n"
      ]
    }
  ]
}