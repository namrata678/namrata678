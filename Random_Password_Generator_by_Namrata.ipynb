{
  "nbformat": 4,
  "nbformat_minor": 0,
  "metadata": {
    "colab": {
      "provenance": [],
      "authorship_tag": "ABX9TyO7HbfskIPZwWObZvWoQUrL",
      "include_colab_link": true
    },
    "kernelspec": {
      "name": "python3",
      "display_name": "Python 3"
    },
    "language_info": {
      "name": "python"
    }
  },
  "cells": [
    {
      "cell_type": "markdown",
      "metadata": {
        "id": "view-in-github",
        "colab_type": "text"
      },
      "source": [
        "<a href=\"https://colab.research.google.com/github/namrata678/namrata678/blob/main/Random_Password_Generator_by_Namrata.ipynb\" target=\"_parent\"><img src=\"https://colab.research.google.com/assets/colab-badge.svg\" alt=\"Open In Colab\"/></a>"
      ]
    },
    {
      "cell_type": "markdown",
      "source": [
        "**Task 9 : Random Password Generator**\n",
        "\n",
        "Create a program that generates a random\n",
        "password of a user-defined length in python"
      ],
      "metadata": {
        "id": "tNcJPVfsN8Is"
      }
    },
    {
      "cell_type": "code",
      "execution_count": 6,
      "metadata": {
        "colab": {
          "base_uri": "https://localhost:8080/"
        },
        "id": "gdAttWHbMtr5",
        "outputId": "39aab1c4-6daa-4aaf-a814-c9287bda5077"
      },
      "outputs": [
        {
          "output_type": "stream",
          "name": "stdout",
          "text": [
            "Enter the desired password length: 7\n",
            "Random Password: `a:mpC)\n",
            "Would you like to choose another password length? (yes/no): yes\n",
            "Enter the desired password length: 12\n",
            "Random Password: A`b(fsN\\$X1)\n",
            "Would you like to choose another password length? (yes/no): no\n",
            "Thank you!\n"
          ]
        }
      ],
      "source": [
        "import random\n",
        "import string\n",
        "\n",
        "def generate_random_password(length):\n",
        "    characters = string.ascii_letters + string.digits + string.punctuation\n",
        "    password = ''.join(random.choice(characters) for _ in range(length))\n",
        "    return password\n",
        "\n",
        "if __name__ == \"__main__\":\n",
        "    while True:\n",
        "        try:\n",
        "            password_length = int(input(\"Enter the desired password length: \"))\n",
        "            if password_length <= 0:\n",
        "                print(\"Password length must be a positive integer.\")\n",
        "            else:\n",
        "                password = generate_random_password(password_length)\n",
        "                print(f\"Random Password: {password}\")\n",
        "                another_attempt = input(\"Would you like to choose another password length? (yes/no): \")\n",
        "                if another_attempt.lower() != \"yes\":\n",
        "                    break\n",
        "        except ValueError:\n",
        "            print(\"Invalid input. Please enter a positive integer for password length.\")\n",
        "\n",
        "    print(\"Thank you!\")\n"
      ]
    }
  ]
}