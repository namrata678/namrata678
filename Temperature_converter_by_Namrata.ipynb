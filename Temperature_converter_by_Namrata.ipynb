{
  "nbformat": 4,
  "nbformat_minor": 0,
  "metadata": {
    "colab": {
      "provenance": [],
      "authorship_tag": "ABX9TyN38LqsuQQV59W5XajF0DZw",
      "include_colab_link": true
    },
    "kernelspec": {
      "name": "python3",
      "display_name": "Python 3"
    },
    "language_info": {
      "name": "python"
    }
  },
  "cells": [
    {
      "cell_type": "markdown",
      "metadata": {
        "id": "view-in-github",
        "colab_type": "text"
      },
      "source": [
        "<a href=\"https://colab.research.google.com/github/namrata678/namrata678/blob/main/Temperature_converter_by_Namrata.ipynb\" target=\"_parent\"><img src=\"https://colab.research.google.com/assets/colab-badge.svg\" alt=\"Open In Colab\"/></a>"
      ]
    },
    {
      "cell_type": "markdown",
      "source": [
        "**Task 5 : Temperature converter**\n",
        "\n",
        "Create a program that allows the user to\n",
        "convert temperatures between Fahrenheit and\n",
        "Celsius.\n"
      ],
      "metadata": {
        "id": "bs93aU5pFiNr"
      }
    },
    {
      "cell_type": "code",
      "execution_count": 9,
      "metadata": {
        "colab": {
          "base_uri": "https://localhost:8080/"
        },
        "id": "goAAdYpWDfVf",
        "outputId": "105b5921-79a8-4152-fe72-7dbc174a4b2a"
      },
      "outputs": [
        {
          "output_type": "stream",
          "name": "stdout",
          "text": [
            "Choose an option:\n",
            "1. Convert Fahrenheit to Celsius\n",
            "2. Convert Celsius to Fahrenheit\n",
            "3. Quit\n",
            "Enter your choice (1/2/3): 1\n",
            "Enter the temperature in Fahrenheit: 23\n",
            "23.0°F is equal to -5.00°C\n",
            "Do you want to convert another temperature? (yes/no): yes\n",
            "Choose an option:\n",
            "1. Convert Fahrenheit to Celsius\n",
            "2. Convert Celsius to Fahrenheit\n",
            "3. Quit\n",
            "Enter your choice (1/2/3): 2\n",
            "Enter the temperature in Celsius: 25\n",
            "25.0°C is equal to 77.00°F\n",
            "Do you want to convert another temperature? (yes/no): no\n",
            "Thank you!\n"
          ]
        }
      ],
      "source": [
        "def fahrenheit_to_celsius(fahrenheit):\n",
        "    celsius = (fahrenheit - 32) * 5/9\n",
        "    return celsius\n",
        "\n",
        "def celsius_to_fahrenheit(celsius):\n",
        "    fahrenheit = (celsius * 9/5) + 32\n",
        "    return fahrenheit\n",
        "\n",
        "while True:\n",
        "    print(\"Choose an option:\")\n",
        "    print(\"1. Convert Fahrenheit to Celsius\")\n",
        "    print(\"2. Convert Celsius to Fahrenheit\")\n",
        "    print(\"3. Quit\")\n",
        "\n",
        "    choice = input(\"Enter your choice (1/2/3): \")\n",
        "\n",
        "    if choice == '1':\n",
        "        fahrenheit = float(input(\"Enter the temperature in Fahrenheit: \"))\n",
        "        celsius = fahrenheit_to_celsius(fahrenheit)\n",
        "        print(f\"{fahrenheit}°F is equal to {celsius:.2f}°C\")\n",
        "    elif choice == '2':\n",
        "        celsius = float(input(\"Enter the temperature in Celsius: \"))\n",
        "        fahrenheit = celsius_to_fahrenheit(celsius)\n",
        "        print(f\"{celsius}°C is equal to {fahrenheit:.2f}°F\")\n",
        "    elif choice == '3':\n",
        "        break\n",
        "    else:\n",
        "        print(\"Invalid choice. Please enter 1, 2, or 3.\")\n",
        "\n",
        "    repeat = input(\"Do you want to convert another temperature? (yes/no): \")\n",
        "    if repeat.lower() != 'yes':\n",
        "        break\n",
        "\n",
        "print(\"Thank you!\")\n"
      ]
    }
  ]
}